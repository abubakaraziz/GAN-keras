{
  "nbformat": 4,
  "nbformat_minor": 0,
  "metadata": {
    "accelerator": "GPU",
    "colab": {
      "name": "DCGAN.ipynb",
      "provenance": [],
      "collapsed_sections": [],
      "toc_visible": true
    },
    "kernelspec": {
      "display_name": "Python 3",
      "language": "python",
      "name": "python3"
    },
    "language_info": {
      "codemirror_mode": {
        "name": "ipython",
        "version": 3
      },
      "file_extension": ".py",
      "mimetype": "text/x-python",
      "name": "python",
      "nbconvert_exporter": "python",
      "pygments_lexer": "ipython3",
      "version": "3.6.8"
    }
  },
  "cells": [
    {
      "cell_type": "markdown",
      "metadata": {
        "colab_type": "text",
        "id": "fXy8KdiOoGly"
      },
      "source": [
        "# Generative Adversarial Networks\n"
      ]
    },
    {
      "cell_type": "code",
      "metadata": {
        "colab_type": "code",
        "id": "Na6nVHCmoGl0",
        "colab": {}
      },
      "source": [
        " %tensorflow_version 1.x\n",
        " !pip install --upgrade opencv-python==3.4.2.17\n",
        "import numpy as np\n",
        "import tensorflow as tf\n",
        "import keras\n",
        "import keras.backend as K\n",
        "from keras.layers import Conv2D,Activation,BatchNormalization,Conv2DTranspose, Input, Flatten, Dense, Reshape, LeakyReLU, Dropout\n",
        "from keras.models import Sequential, Model\n",
        "from keras.optimizers import Adam, SGD,RMSprop\n",
        "import os\n",
        "from glob import glob\n",
        "from skimage.io import imread,imshow,imsave\n",
        "from skimage.transform import resize\n",
        "import matplotlib.pyplot as plt\n",
        "import cv2\n",
        "import math\n",
        "from keras.preprocessing import image as k_image\n",
        "from keras.utils.generic_utils import Progbar\n",
        "from keras.initializers import RandomNormal\n",
        "import random\n",
        "\n",
        "from google.colab import drive\n",
        "drive.mount('/content/drive')\n"
      ],
      "execution_count": 0,
      "outputs": []
    },
    {
      "cell_type": "code",
      "metadata": {
        "colab_type": "code",
        "id": "SqmM03ovoGl7",
        "colab": {}
      },
      "source": [
        "BATCH_SIZE = 128\n",
        "IMAGE_SHAPE = [64,64]\n",
        "CHANNELS = 3\n",
        "NOISE_DIM = 100\n",
        "EPOCHS = 2500\n",
        "# Use this to prefix all your paths when reading/writing data to drive.\n",
        "BASE_DIR =PATH_TO_DATASET\n"
      ],
      "execution_count": 0,
      "outputs": []
    },
    {
      "cell_type": "markdown",
      "metadata": {
        "id": "R9HnysN7xOVg",
        "colab_type": "text"
      },
      "source": [
        "- Here's the link to the emojis dataset: https://drive.google.com/open?id=1WRpE9SwSqguyGrrI9EP6jlHk7f1hoJMo\n",
        "\n",
        "- Here's the link to the full emojis dataset: https://drive.google.com/open?id=1UeIQIbixvapM-TBzngOwDXnHV_vv-MBG"
      ]
    },
    {
      "cell_type": "code",
      "metadata": {
        "colab_type": "code",
        "id": "4WYSmKrooGmA",
        "colab": {}
      },
      "source": [
        "## Helper Functions\n",
        "def sample_noise():\n",
        "    return np.reshape(np.random.randn(NOISE_DIM * BATCH_SIZE),(BATCH_SIZE,NOISE_DIM))\n",
        "print(sample_noise().shape)\n",
        "def remove_transparency(source, background_color):\n",
        "    source_img = source[:, :, :3]\n",
        "    source_mask = source[:, :, 3]  * (1 / 255.0)\n",
        "    source_mask = np.repeat(source_mask[:, :, np.newaxis], 3, axis=2)\n",
        "    background_mask = 1.0 - source_mask\n",
        "    bg_part = (background_color * (1 / 255.0)) * (background_mask)\n",
        "    source_part = (source_img * (1 / 255.0)) * (source_mask)\n",
        "    return cv2.cvtColor(np.uint8(cv2.addWeighted(bg_part, 255.0, source_part, 255.0, 0.0)),cv2.COLOR_BGR2RGB)\n",
        "\n",
        "def load_data():\n",
        "    base_dir = '/content/drive/My Drive/Fall 2020/Deep Learning/Assignment_5/filtered_emojis/*'\n",
        "    train_files = glob(base_dir)\n",
        "    train_images = np.array([cv2.resize(remove_transparency(cv2.imread(f,-1),255),tuple(IMAGE_SHAPE)) for f in train_files])\n",
        "    return train_images\n",
        "\n",
        "def create_image_grid(array, ncols=None):\n",
        "    num_images, cell_h, cell_w, channels = array.shape\n",
        "    if not ncols:\n",
        "        ncols = int(np.sqrt(num_images))\n",
        "    nrows = int(np.math.floor(num_images / float(ncols)))\n",
        "    result = np.zeros((cell_h*nrows, cell_w*ncols, channels), dtype=array.dtype)\n",
        "    for i in range(0, nrows):\n",
        "        for j in range(0, ncols):\n",
        "            result[i*cell_h:(i+1)*cell_h, j*cell_w:(j+1)*cell_w, :] = array[i*ncols+j]\n",
        "\n",
        "    if channels == 1:\n",
        "        result = result.squeeze()\n",
        "    return result"
      ],
      "execution_count": 0,
      "outputs": []
    },
    {
      "cell_type": "code",
      "metadata": {
        "id": "2DL7Oe64xOWL",
        "colab_type": "code",
        "colab": {}
      },
      "source": [
        "def build_discriminator():\n",
        "  random=RandomNormal(mean=0.0, stddev=0.02)\n",
        "  input_15=Input(shape=(64,64,3))\n",
        "  dropout1=Dropout(0.5)(input_15)\n",
        "  conv2d_31=Conv2D(64,(4,4),strides=(2,2),padding=\"same\",kernel_initializer=random,use_bias=False)(dropout1)\n",
        "  leaky_re_lu_37=LeakyReLU(alpha=0.3)(conv2d_31)\n",
        "  conv2d_32=Conv2D(128,(4,4),strides=(2,2),padding=\"same\",kernel_initializer=random,use_bias=False)(leaky_re_lu_37)\n",
        "  batch_normalization_31=BatchNormalization()(conv2d_32)\n",
        "  leaky_re_lu_38=LeakyReLU(alpha=0.3)(batch_normalization_31)\n",
        "  conv2d_33=Conv2D(256,(4,4),strides=(2,2),padding=\"same\",kernel_initializer=random,use_bias=False)(leaky_re_lu_38)\n",
        "  batch_normalization_32=BatchNormalization()(conv2d_33)\n",
        "  leaky_re_lu_39=LeakyReLU(alpha=0.3)(batch_normalization_32)\n",
        "  conv2d_34=Conv2D(512,(4,4),strides=(2,2),padding=\"same\",kernel_initializer=random,use_bias=False)(leaky_re_lu_39)\n",
        "  batch_normalization_33=BatchNormalization()(conv2d_34)\n",
        "  leaky_re_lu_40=LeakyReLU(alpha=0.3)(batch_normalization_33)\n",
        "  conv2d_35=Conv2D(1,(4,4),strides=(1,1),padding=\"same\",kernel_initializer=random,use_bias=False)(leaky_re_lu_40)\n",
        "  flatten_7=Flatten()(conv2d_35)\n",
        "  dense_11=Dense(1,activation='sigmoid')(flatten_7)\n",
        "  discriminator=Model(inputs=[input_15],outputs=dense_11)\n",
        "\n",
        "  \n",
        "  \n",
        "  return discriminator\n"
      ],
      "execution_count": 0,
      "outputs": []
    },
    {
      "cell_type": "code",
      "metadata": {
        "colab_type": "code",
        "id": "kPM1oSn3oGnS",
        "colab": {}
      },
      "source": [
        "def build_gan(gen,disc):\n",
        "    z=gen.input\n",
        "    fake_image=gen(z)\n",
        "    disc.trainable=False\n",
        "    validity=disc(fake_image)\n",
        "    combined_model=Model(inputs=[z],outputs=validity)\n",
        "    #combined_model.summary()\n",
        "    combined_model.compile(loss=\"binary_crossentropy\", \n",
        "              optimizer=Adam(lr=0.001), \n",
        "              metrics=['accuracy'])\n",
        "    return combined_model\n"
      ],
      "execution_count": 0,
      "outputs": []
    },
    {
      "cell_type": "code",
      "metadata": {
        "id": "u69HrE_IxOWO",
        "colab_type": "code",
        "colab": {}
      },
      "source": [
        "def build_generator():  \n",
        "    random=RandomNormal(mean=0.0, stddev=0.02)\n",
        "    noise_input=Input(shape=(NOISE_DIM,))\n",
        "    dense1=Dense(4*4*1024)(noise_input)\n",
        "    dense1reshape=Reshape((4,4,1024))(dense1)\n",
        "    convd2d_tranpose1=Conv2DTranspose(512, (5, 5), strides=(2, 2), kernel_initializer=random,padding='same',use_bias=False)(dense1reshape)\n",
        "    batch_normalization_31=BatchNormalization()(convd2d_tranpose1)\n",
        "    leaky_re_lu_37=LeakyReLU(alpha=0.3  )(batch_normalization_31)\n",
        "    convd2d_tranpose2=Conv2DTranspose(256, (5, 5), strides=(2, 2),kernel_initializer=random, padding='same',use_bias=False)(leaky_re_lu_37)\n",
        "    batch_normalization_32=BatchNormalization()(convd2d_tranpose2)\n",
        "    leaky_re_lu_38=LeakyReLU(alpha=0.3)(batch_normalization_32)\n",
        "    convd2d_tranpose3=Conv2DTranspose(128, (5, 5), strides=(2, 2), kernel_initializer=random,padding='same',use_bias=False)(leaky_re_lu_38)\n",
        "    batch_normalization_33=BatchNormalization()(convd2d_tranpose3)\n",
        "    leaky_re_lu_39=LeakyReLU(alpha=0.3)(batch_normalization_33)\n",
        "    convd2d_tranpose3=Conv2DTranspose(3, (5, 5), strides=(2, 2), kernel_initializer=random,padding='same',activation='tanh',use_bias=False)(leaky_re_lu_39)\n",
        "\n",
        "\n",
        "    generator=Model(inputs=[noise_input],outputs=convd2d_tranpose3)\n",
        "    return generator"
      ],
      "execution_count": 0,
      "outputs": []
    },
    {
      "cell_type": "code",
      "metadata": {
        "id": "G0Gc0Y8oxOWV",
        "colab_type": "code",
        "colab": {}
      },
      "source": [
        "\n",
        "#scaling images between [-1,1]\n",
        "def normalize(images):  \n",
        "  normal_images= 2*(images/255)-1\n",
        "  return normal_images\n",
        "\n",
        "#For Real labels, i.e. 1s, I used smooth labels uniformly between [0.7,1.2]\n",
        "def smooth_real_labels(y):\n",
        "    for x in range(len(y)):\n",
        "         y[x]=np.random.random()*(1.2-0.7)+0.7\n",
        "    return y\n",
        "\n",
        "\n",
        "#For fake labels, i.e. 0, I used smooth labels uniformly between [0,13]\n",
        "def smooth_fake_labels(y):\n",
        "    for x in range(len(y)):\n",
        "         y[x]=np.random.random()*(0.3-0)\n",
        "    return y\n",
        "\n",
        "\n"
      ],
      "execution_count": 0,
      "outputs": []
    },
    {
      "cell_type": "code",
      "metadata": {
        "id": "FotU-pAUhknw",
        "colab_type": "code",
        "colab": {}
      },
      "source": [
        "def save_samples(generated_images,step,save_at=\"samples1/\"):\n",
        "    sample_image = create_image_grid(generated_images)\n",
        "    img = k_image.array_to_img(sample_image)\n",
        "    img.save(os.path.join(BASE_DIR,save_at, 'generated_image_' + str(step) + '.png'))"
      ],
      "execution_count": 0,
      "outputs": []
    },
    {
      "cell_type": "code",
      "metadata": {
        "id": "2RoZ4eTmxOW0",
        "colab_type": "code",
        "colab": {}
      },
      "source": [
        "def gan_training_loop(intervals=200):\n",
        "    # Setup Models here\n",
        "    gen=build_generator()\n",
        "    discr=build_discriminator()\n",
        "    discr.compile(loss=\"binary_crossentropy\", \n",
        "              optimizer=Adam(lr=0.001), \n",
        "              metrics=['accuracy'])\n",
        "    combined_model=build_gan(gen,discr)\n",
        "    X_train = load_data()\n",
        "    total_size = X_train.shape[0]\n",
        "    \n",
        "    indices = np.arange(0,total_size ,BATCH_SIZE)\n",
        "    all_disc_loss = []\n",
        "    all_gen_loss = []\n",
        "    \n",
        "    if total_size % BATCH_SIZE:\n",
        "        indices = indices[:-1]\n",
        "  \n",
        "    for e in range(EPOCHS):\n",
        "        progress_bar = Progbar(target=len(indices))\n",
        "        np.random.shuffle(indices)\n",
        "        epoch_gen_loss = []\n",
        "        epoch_disc_loss = []\n",
        "        disc_fake_loss=[]\n",
        "        disc_real_loss=[]\n",
        "        \n",
        "        valid = np.ones((BATCH_SIZE, 1))\n",
        "        fake = np.zeros((BATCH_SIZE, 1))\n",
        "      \n",
        "        valid=smooth_real_labels(valid)\n",
        "        fake=smooth_fake_labels(fake)   \n",
        "        \n",
        "\n",
        "        for i,index in enumerate(indices):\n",
        "            # Write your code here\n",
        "            noise=sample_noise()\n",
        "            real_imgs=X_train[index:index+BATCH_SIZE]\n",
        "            real_imgs=normalize(real_imgs)\n",
        "            fake_imgs=gen.predict(noise)\n",
        "\n",
        "            if not (e % intervals):\n",
        "                save_samples1(fake_imgs,e)\n",
        "            #training discriminator\n",
        "            disc_real_loss=discr.train_on_batch(real_imgs,valid)\n",
        "            disc_fake_loss=discr.train_on_batch(fake_imgs,fake)\n",
        "            disc_loss = (disc_fake_loss[0] + disc_real_loss[0]) * 0.5\n",
        "            epoch_disc_loss.append(disc_loss)\n",
        "            #training gan\n",
        "            gen_loss=combined_model.train_on_batch(noise,valid)\n",
        "          \n",
        "           \n",
        "            epoch_gen_loss.append(gen_loss)\n",
        "            progress_bar.update(i+1)\n",
        "        if not (e%intervals):\n",
        "            discr.save_weights(os.path.join(BASE_DIR,'discriminator1'),True)\n",
        "            gen.save_weights(os.path.join(BASE_DIR,'generator1'),True)\n",
        "            \n",
        "        avg_epoch_disc_loss = np.array(epoch_disc_loss).mean()\n",
        "        avg_epoch_gen_loss = np.array(epoch_gen_loss).mean()\n",
        "        all_disc_loss.append(avg_epoch_disc_loss)\n",
        "        all_gen_loss.append(avg_epoch_gen_loss)\n",
        "        print(\"Epoch: %d | Discriminator Loss: %f | Generator Loss: %f\" % (e+1,avg_epoch_disc_loss,avg_epoch_gen_loss))\n",
        "    return all_disc_loss,all_gen_loss"
      ],
      "execution_count": 0,
      "outputs": []
    },
    {
      "cell_type": "code",
      "metadata": {
        "id": "u1CwyHDWd57I",
        "colab_type": "code",
        "colab": {}
      },
      "source": [
        "all_disc_losses,all_gen_losses=gan_training_loop1()"
      ],
      "execution_count": 0,
      "outputs": []
    },
    {
      "cell_type": "code",
      "metadata": {
        "id": "bGcEzTPK9Kp-",
        "colab_type": "code",
        "outputId": "183bd6a1-a52a-4c7c-8aa9-486607c36178",
        "colab": {
          "base_uri": "https://localhost:8080/",
          "height": 295
        }
      },
      "source": [
        "plot_loss(all_disc_losses,all_gen_losses)"
      ],
      "execution_count": 0,
      "outputs": [
        {
          "output_type": "display_data",
          "data": {
            "image/png": "[encoded data removed]",
            "text/plain": [
              "<Figure size 432x288 with 1 Axes>"
            ]
          },
          "metadata": {
            "tags": [],
            "needs_background": "light"
          }
        }
      ]
    }
  ]
}